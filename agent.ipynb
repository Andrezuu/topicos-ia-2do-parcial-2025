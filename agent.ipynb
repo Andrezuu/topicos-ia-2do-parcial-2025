{
 "cells": [
  {
   "cell_type": "code",
   "id": "initial_id",
   "metadata": {
    "collapsed": true,
    "ExecuteTime": {
     "end_time": "2025-10-25T19:33:50.054699Z",
     "start_time": "2025-10-25T19:33:48.569691Z"
    }
   },
   "source": [
    "from database import setup_database\n",
    "from tools import get_schema\n",
    "from agent import create_agent"
   ],
   "outputs": [],
   "execution_count": 1
  },
  {
   "metadata": {
    "ExecuteTime": {
     "end_time": "2025-10-25T19:34:13.359671Z",
     "start_time": "2025-10-25T19:34:13.355211Z"
    }
   },
   "cell_type": "code",
   "source": [
    "conn = setup_database()\n",
    "query_history = []"
   ],
   "id": "e5f30f270bf238d5",
   "outputs": [],
   "execution_count": 7
  },
  {
   "metadata": {
    "ExecuteTime": {
     "end_time": "2025-10-25T19:34:13.591615Z",
     "start_time": "2025-10-25T19:34:13.582139Z"
    }
   },
   "cell_type": "code",
   "source": "agent = create_agent(conn, query_history)",
   "id": "35862703c2b94f0f",
   "outputs": [
    {
     "name": "stdout",
     "output_type": "stream",
     "text": [
      "[Agent] DSPy configured with gpt-4o-mini model.\n"
     ]
    }
   ],
   "execution_count": 8
  },
  {
   "metadata": {
    "ExecuteTime": {
     "end_time": "2025-10-25T19:34:15.122126Z",
     "start_time": "2025-10-25T19:34:15.119473Z"
    }
   },
   "cell_type": "code",
   "source": "initial_schema = get_schema(conn)",
   "id": "a22d3ff2257f5e35",
   "outputs": [
    {
     "name": "stdout",
     "output_type": "stream",
     "text": [
      "   [Tool Action] Getting schema for: all tables\n"
     ]
    }
   ],
   "execution_count": 9
  },
  {
   "metadata": {
    "ExecuteTime": {
     "end_time": "2025-10-25T19:34:24.540029Z",
     "start_time": "2025-10-25T19:34:16.693243Z"
    }
   },
   "cell_type": "code",
   "source": "response = agent(question=\"what are the best and worst employees in terms of sales?\", initial_schema=initial_schema)",
   "id": "d219e6619cbccf63",
   "outputs": [
    {
     "name": "stdout",
     "output_type": "stream",
     "text": [
      "   [BEGIN Tool Action] Executing SQL: SELECT employee_id, SUM(sale_amount) AS total_sales FROM sales GROUP BY employee_id ORDER BY total_sales DESC; [END Tool Action]\n",
      "   [Tool Action] Getting schema for: sales\n",
      "   [BEGIN Tool Action] Executing SQL: SELECT employee_id, SUM(amount) AS total_sales FROM sales GROUP BY employee_id ORDER BY total_sales DESC; [END Tool Action]\n"
     ]
    }
   ],
   "execution_count": 10
  },
  {
   "metadata": {
    "ExecuteTime": {
     "end_time": "2025-10-25T19:34:25.558432Z",
     "start_time": "2025-10-25T19:34:25.555644Z"
    }
   },
   "cell_type": "code",
   "source": "response.answer",
   "id": "b9c3a0bf7374d843",
   "outputs": [
    {
     "data": {
      "text/plain": [
       "'The best employee in terms of sales is employee 1 with total sales of 27232.8, while the worst employee is employee 3 with total sales of 108.5.'"
      ]
     },
     "execution_count": 11,
     "metadata": {},
     "output_type": "execute_result"
    }
   ],
   "execution_count": 11
  },
  {
   "metadata": {
    "ExecuteTime": {
     "end_time": "2025-10-25T19:34:33.250086Z",
     "start_time": "2025-10-25T19:34:33.247847Z"
    }
   },
   "cell_type": "code",
   "source": "query_history",
   "id": "3adbb686608dc8ca",
   "outputs": [
    {
     "data": {
      "text/plain": [
       "['SELECT employee_id, SUM(sale_amount) AS total_sales FROM sales GROUP BY employee_id ORDER BY total_sales DESC;',\n",
       " 'SELECT employee_id, SUM(amount) AS total_sales FROM sales GROUP BY employee_id ORDER BY total_sales DESC;']"
      ]
     },
     "execution_count": 12,
     "metadata": {},
     "output_type": "execute_result"
    }
   ],
   "execution_count": 12
  },
  {
   "metadata": {
    "ExecuteTime": {
     "end_time": "2025-10-25T19:35:32.097586Z",
     "start_time": "2025-10-25T19:35:10.475895Z"
    }
   },
   "cell_type": "code",
   "source": "response = agent(question=\"explain to me the schema of the database\", initial_schema=initial_schema)",
   "id": "85e18b4c9b8bd5e4",
   "outputs": [
    {
     "name": "stdout",
     "output_type": "stream",
     "text": [
      "   [Tool Action] Getting schema for: employees\n",
      "   [Tool Action] Getting schema for: customers\n",
      "   [Tool Action] Getting schema for: products\n",
      "   [Tool Action] Getting schema for: sales\n"
     ]
    }
   ],
   "execution_count": 13
  },
  {
   "metadata": {
    "ExecuteTime": {
     "end_time": "2025-10-25T19:35:38.569717Z",
     "start_time": "2025-10-25T19:35:38.565987Z"
    }
   },
   "cell_type": "code",
   "source": "response.answer",
   "id": "d50cbaf9fd0bc14f",
   "outputs": [
    {
     "data": {
      "text/plain": [
       "'The schema of the database includes the following tables and their respective columns:\\n- **employees**: id (INTEGER), employee_name (TEXT), department (TEXT)\\n- **customers**: id (INTEGER), name (TEXT), region (TEXT)\\n- **products**: id (INTEGER), name (TEXT), category (TEXT)\\n- **sales**: id (INTEGER), product_id (INTEGER), customer_id (INTEGER), employee_id (INTEGER), amount (REAL), name (TEXT)\\n\\nThis structure facilitates the management of employee details, customer information, product listings, and sales transactions.'"
      ]
     },
     "execution_count": 14,
     "metadata": {},
     "output_type": "execute_result"
    }
   ],
   "execution_count": 14
  }
 ],
 "metadata": {
  "kernelspec": {
   "display_name": "Python 3",
   "language": "python",
   "name": "python3"
  },
  "language_info": {
   "codemirror_mode": {
    "name": "ipython",
    "version": 2
   },
   "file_extension": ".py",
   "mimetype": "text/x-python",
   "name": "python",
   "nbconvert_exporter": "python",
   "pygments_lexer": "ipython2",
   "version": "2.7.6"
  }
 },
 "nbformat": 4,
 "nbformat_minor": 5
}
